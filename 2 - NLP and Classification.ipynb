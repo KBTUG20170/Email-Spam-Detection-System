{
 "cells": [
  {
   "cell_type": "markdown",
   "id": "4aa9647e-1c7a-411d-ac6f-6a9762d23722",
   "metadata": {},
   "source": [
    "<h2 style=\"color:orange;font-weight:bold;font-family:arial\">Email Spam Detection and Filtering System</h2>\n",
    "<h3 style=\"color:blue;font-weight:bold;font-family:arial\">Samruddhi Khairnar</h3>"
   ]
  },
  {
   "cell_type": "markdown",
   "id": "6176d164-968b-4b3c-b590-f94a1f2f7dec",
   "metadata": {},
   "source": [
    "##### kbtug20170@kbtcoe.org"
   ]
  },
  {
   "cell_type": "code",
   "execution_count": 1,
   "id": "8dbce888-50f0-40e6-9b37-2b095ffd89a4",
   "metadata": {
    "id": "8dbce888-50f0-40e6-9b37-2b095ffd89a4"
   },
   "outputs": [],
   "source": [
    "import pandas as pd"
   ]
  },
  {
   "cell_type": "markdown",
   "id": "bfe807e8-b54b-49c4-9b06-17aebef4de9e",
   "metadata": {},
   "source": [
    "#### **Reading the Scraped Dataset**"
   ]
  },
  {
   "cell_type": "code",
   "execution_count": 2,
   "id": "bfd651a3-f4c4-43bd-b5ea-749eac9eac43",
   "metadata": {
    "colab": {
     "base_uri": "https://localhost:8080/",
     "height": 206
    },
    "id": "bfd651a3-f4c4-43bd-b5ea-749eac9eac43",
    "outputId": "90df802b-d36e-415d-a7e2-df4bf1326156"
   },
   "outputs": [
    {
     "data": {
      "text/html": [
       "<div>\n",
       "<style scoped>\n",
       "    .dataframe tbody tr th:only-of-type {\n",
       "        vertical-align: middle;\n",
       "    }\n",
       "\n",
       "    .dataframe tbody tr th {\n",
       "        vertical-align: top;\n",
       "    }\n",
       "\n",
       "    .dataframe thead th {\n",
       "        text-align: right;\n",
       "    }\n",
       "</style>\n",
       "<table border=\"1\" class=\"dataframe\">\n",
       "  <thead>\n",
       "    <tr style=\"text-align: right;\">\n",
       "      <th></th>\n",
       "      <th>Data</th>\n",
       "      <th>Spam</th>\n",
       "    </tr>\n",
       "  </thead>\n",
       "  <tbody>\n",
       "    <tr>\n",
       "      <th>0</th>\n",
       "      <td>Best wishes,</td>\n",
       "      <td>non-spam</td>\n",
       "    </tr>\n",
       "    <tr>\n",
       "      <th>1</th>\n",
       "      <td>[Your Post 1]</td>\n",
       "      <td>non-spam</td>\n",
       "    </tr>\n",
       "    <tr>\n",
       "      <th>2</th>\n",
       "      <td>Free access</td>\n",
       "      <td>spam</td>\n",
       "    </tr>\n",
       "    <tr>\n",
       "      <th>3</th>\n",
       "      <td>Thank you for signing up for [your company nam...</td>\n",
       "      <td>non-spam</td>\n",
       "    </tr>\n",
       "    <tr>\n",
       "      <th>4</th>\n",
       "      <td>Accept credit cards</td>\n",
       "      <td>spam</td>\n",
       "    </tr>\n",
       "  </tbody>\n",
       "</table>\n",
       "</div>"
      ],
      "text/plain": [
       "                                                Data      Spam\n",
       "0                                       Best wishes,  non-spam\n",
       "1                                      [Your Post 1]  non-spam\n",
       "2                                        Free access      spam\n",
       "3  Thank you for signing up for [your company nam...  non-spam\n",
       "4                                Accept credit cards      spam"
      ]
     },
     "execution_count": 2,
     "metadata": {},
     "output_type": "execute_result"
    }
   ],
   "source": [
    "df = pd.read_csv('emails_scraped.csv')\n",
    "df['Spam'].replace({0:'non-spam',1:'spam'}, inplace=True)\n",
    "df.head()"
   ]
  },
  {
   "cell_type": "markdown",
   "id": "6acf16ff-1f76-4879-8896-48e9b0b17587",
   "metadata": {},
   "source": [
    "#### **Splitting the Dataset into Training + Testing Set**"
   ]
  },
  {
   "cell_type": "code",
   "execution_count": 3,
   "id": "a3f9d551-0249-43d2-9ecf-035007b6f61e",
   "metadata": {
    "id": "a3f9d551-0249-43d2-9ecf-035007b6f61e"
   },
   "outputs": [],
   "source": [
    "from sklearn.model_selection import train_test_split"
   ]
  },
  {
   "cell_type": "code",
   "execution_count": 4,
   "id": "630c5363-4ac8-44b0-8dd6-13a4dfb6c2ee",
   "metadata": {
    "id": "630c5363-4ac8-44b0-8dd6-13a4dfb6c2ee"
   },
   "outputs": [],
   "source": [
    "train, test = train_test_split(df, test_size=0.3, random_state=34)\n",
    "train_x, train_y = train['Data'], train['Spam']\n",
    "test_x, test_y = test['Data'], test['Spam']"
   ]
  },
  {
   "cell_type": "code",
   "execution_count": 5,
   "id": "78f99f16-35c0-43d8-a420-3909e3328f56",
   "metadata": {
    "colab": {
     "base_uri": "https://localhost:8080/"
    },
    "id": "78f99f16-35c0-43d8-a420-3909e3328f56",
    "outputId": "f27e388c-7bd3-4258-e484-a2edfc74933a"
   },
   "outputs": [
    {
     "data": {
      "text/plain": [
       "(436,)"
      ]
     },
     "execution_count": 5,
     "metadata": {},
     "output_type": "execute_result"
    }
   ],
   "source": [
    "train_x.shape"
   ]
  },
  {
   "cell_type": "markdown",
   "id": "04da23e6-8d7d-4d37-be1f-bacb484b45f0",
   "metadata": {
    "id": "04da23e6-8d7d-4d37-be1f-bacb484b45f0"
   },
   "source": [
    "#### **Lemmatization** \n",
    "##### (Getting root words from words eg: playful -> play)"
   ]
  },
  {
   "cell_type": "code",
   "execution_count": 6,
   "id": "d69089fc-92b1-4177-aecd-91182e2c3b2b",
   "metadata": {
    "id": "d69089fc-92b1-4177-aecd-91182e2c3b2b"
   },
   "outputs": [],
   "source": [
    "import nltk\n",
    "#nltk.download('stopwords');nltk.download('punkt');nltk.download('wordnet')\n",
    "from nltk.tokenize import word_tokenize\n",
    "from nltk.stem import WordNetLemmatizer\n",
    "import numpy as np\n",
    "import re"
   ]
  },
  {
   "cell_type": "code",
   "execution_count": 7,
   "id": "8705c2c9-b186-40ee-b6db-2b1dc8cbc733",
   "metadata": {
    "id": "8705c2c9-b186-40ee-b6db-2b1dc8cbc733"
   },
   "outputs": [],
   "source": [
    "wnl = WordNetLemmatizer()\n",
    "data = np.array(df['Data'])"
   ]
  },
  {
   "cell_type": "code",
   "execution_count": 8,
   "id": "db0fba2d-6017-46ff-af8a-808c514bc1d3",
   "metadata": {
    "id": "db0fba2d-6017-46ff-af8a-808c514bc1d3"
   },
   "outputs": [],
   "source": [
    "for i,d in enumerate(data):\n",
    "    d = re.sub(r'[^\\w\\s]','',d)\n",
    "    \n",
    "    words = word_tokenize(d)\n",
    "    lemmatized = []\n",
    "    for w in words:\n",
    "        lemmatized.append(wnl.lemmatize(w))\n",
    "        \n",
    "    data[i] = \" \".join(lemmatized)"
   ]
  },
  {
   "cell_type": "code",
   "execution_count": 9,
   "id": "a54cdcfd-1214-44eb-ae2a-4646736b0dbd",
   "metadata": {
    "colab": {
     "base_uri": "https://localhost:8080/"
    },
    "id": "a54cdcfd-1214-44eb-ae2a-4646736b0dbd",
    "outputId": "334cf773-8a13-412a-929b-c42e9de3d9c1"
   },
   "outputs": [
    {
     "data": {
      "text/plain": [
       "array(['Best wish', 'Your Post 1', 'Free access',\n",
       "       'Thank you for signing up for your company name news center Well be updating you on occasion about productsservices you offer and other update about your company',\n",
       "       'Accept credit card'], dtype=object)"
      ]
     },
     "execution_count": 9,
     "metadata": {},
     "output_type": "execute_result"
    }
   ],
   "source": [
    "data[:5]"
   ]
  },
  {
   "cell_type": "markdown",
   "id": "e816e4dd-89ae-447f-be7d-c10e6ff49892",
   "metadata": {
    "id": "e816e4dd-89ae-447f-be7d-c10e6ff49892"
   },
   "source": [
    "#### **Stopwords Removal** \n",
    "##### (Remove common words eg: the,if..)"
   ]
  },
  {
   "cell_type": "code",
   "execution_count": 10,
   "id": "54719451-af59-4648-9210-ae5f12ac5aed",
   "metadata": {
    "id": "54719451-af59-4648-9210-ae5f12ac5aed"
   },
   "outputs": [],
   "source": [
    "from nltk.tokenize import word_tokenize\n",
    "from nltk.corpus import stopwords"
   ]
  },
  {
   "cell_type": "code",
   "execution_count": 11,
   "id": "78a6e2f5-1808-4bcc-ae08-6b2175408060",
   "metadata": {
    "id": "78a6e2f5-1808-4bcc-ae08-6b2175408060"
   },
   "outputs": [],
   "source": [
    "s = stopwords.words('english')"
   ]
  },
  {
   "cell_type": "code",
   "execution_count": 12,
   "id": "a64e60f1-6c95-44e3-8623-db5218ba80f0",
   "metadata": {
    "id": "a64e60f1-6c95-44e3-8623-db5218ba80f0"
   },
   "outputs": [],
   "source": [
    "for i,d in enumerate(data):    \n",
    "    words = word_tokenize(d)\n",
    "\n",
    "    stripped = []\n",
    "    for w in words:\n",
    "        if w not in s:\n",
    "            stripped.append(w)\n",
    "\n",
    "    data[i] = \" \".join(stripped)"
   ]
  },
  {
   "cell_type": "code",
   "execution_count": 13,
   "id": "c133f2ca-cfaa-4636-a854-8e33690e496e",
   "metadata": {
    "colab": {
     "base_uri": "https://localhost:8080/"
    },
    "id": "c133f2ca-cfaa-4636-a854-8e33690e496e",
    "outputId": "d815fa9a-a381-422d-be0c-c6b5ee9121f9"
   },
   "outputs": [
    {
     "data": {
      "text/plain": [
       "array(['Best wish', 'Your Post 1', 'Free access',\n",
       "       'Thank signing company name news center Well updating occasion productsservices offer update company',\n",
       "       'Accept credit card'], dtype=object)"
      ]
     },
     "execution_count": 13,
     "metadata": {},
     "output_type": "execute_result"
    }
   ],
   "source": [
    "data[:5]"
   ]
  },
  {
   "cell_type": "markdown",
   "id": "8ecf10d6-ab68-4e91-a838-e32cdaa9bbc6",
   "metadata": {
    "id": "8ecf10d6-ab68-4e91-a838-e32cdaa9bbc6"
   },
   "source": [
    "#### **Bag of Words Vectorization** \n",
    "##### (creation of feature vectors eg:10110)"
   ]
  },
  {
   "cell_type": "code",
   "execution_count": 14,
   "id": "e01fc337-d537-4acd-98df-472168afb3be",
   "metadata": {
    "id": "e01fc337-d537-4acd-98df-472168afb3be"
   },
   "outputs": [],
   "source": [
    "from sklearn.feature_extraction.text import TfidfVectorizer\n",
    "vectorizer = TfidfVectorizer(binary=True, ngram_range=(1,2))"
   ]
  },
  {
   "cell_type": "code",
   "execution_count": 15,
   "id": "ac5436a5-c07b-4c88-8211-caac6416609c",
   "metadata": {
    "id": "ac5436a5-c07b-4c88-8211-caac6416609c"
   },
   "outputs": [],
   "source": [
    "train_x_bag = vectorizer.fit_transform(train_x)\n",
    "test_x_bag = vectorizer.transform(test_x)"
   ]
  },
  {
   "cell_type": "code",
   "execution_count": 16,
   "id": "f877b146-8321-45d5-a8cb-1f5bdbb28ca2",
   "metadata": {
    "colab": {
     "base_uri": "https://localhost:8080/"
    },
    "id": "f877b146-8321-45d5-a8cb-1f5bdbb28ca2",
    "outputId": "7cb3bf5c-5645-471a-9300-6c015b277a6a"
   },
   "outputs": [
    {
     "name": "stdout",
     "output_type": "stream",
     "text": [
      "['30' '30 minutes' '301' ... 'youtube your' 'yyyy' 'zone']\n",
      "[0. 0. 0. ... 0. 0. 0.]\n"
     ]
    }
   ],
   "source": [
    "print(vectorizer.get_feature_names_out())\n",
    "print(train_x_bag.toarray()[0])"
   ]
  },
  {
   "cell_type": "markdown",
   "id": "3c107345-e534-4618-8050-d2cf7b7f84dc",
   "metadata": {},
   "source": [
    "#### **Visualization of Most Frequent Words** "
   ]
  },
  {
   "cell_type": "code",
   "execution_count": 17,
   "id": "e332ca24-9e3c-433d-a365-05f760e04eab",
   "metadata": {},
   "outputs": [],
   "source": [
    "spam, non_spam = df.loc[df['Spam']=='spam'], df.loc[df['Spam']!='spam']"
   ]
  },
  {
   "cell_type": "code",
   "execution_count": 18,
   "id": "54e13655-8def-49fb-95b6-e4b6f78a64f6",
   "metadata": {},
   "outputs": [],
   "source": [
    "spam_bag = vectorizer.fit_transform(spam['Data']).toarray()\n",
    "spam_bag_sum = np.sum(spam_bag, axis=0)\n",
    "spam_df = pd.DataFrame({'sum':spam_bag_sum,'feature':vectorizer.get_feature_names_out()})\n",
    "spam_df.sort_values(by='sum', ascending=False, inplace=True)"
   ]
  },
  {
   "cell_type": "code",
   "execution_count": 19,
   "id": "1a9e4c82-d998-4295-a944-33676c7eb9c7",
   "metadata": {},
   "outputs": [],
   "source": [
    "non_spam_bag = vectorizer.fit_transform(non_spam['Data']).toarray()\n",
    "non_spam_bag_sum = np.sum(non_spam_bag, axis=0)\n",
    "non_spam_df = pd.DataFrame({'sum':non_spam_bag_sum,'feature':vectorizer.get_feature_names_out()})\n",
    "non_spam_df.sort_values(by='sum', ascending=False, inplace=True)"
   ]
  },
  {
   "cell_type": "code",
   "execution_count": 20,
   "id": "a35a8cbf-65c3-4cf4-9f82-401a4bbd7ded",
   "metadata": {},
   "outputs": [],
   "source": [
    "import seaborn as sns\n",
    "import matplotlib.pyplot as plt"
   ]
  },
  {
   "cell_type": "code",
   "execution_count": 21,
   "id": "1dcdd007-8c66-4229-bedb-345f52a9472b",
   "metadata": {},
   "outputs": [
    {
     "data": {
      "image/png": "[encoded data removed]",
      "text/plain": [
       "<Figure size 1500x300 with 2 Axes>"
      ]
     },
     "metadata": {},
     "output_type": "display_data"
    }
   ],
   "source": [
    "fig, ax = plt.subplots(1,2,  figsize=(15, 3))\n",
    "\n",
    "sns.barplot(ax=ax[0],x='feature', y='sum', data=non_spam_df[:20], color='lightgreen')\n",
    "sns.barplot(ax=ax[1], x='feature', y='sum', data=spam_df[:20], color='tomato')\n",
    "\n",
    "ax[0].set_xticklabels(ax[0].get_xticklabels(), rotation=45)\n",
    "ax[1].set_xticklabels(ax[1].get_xticklabels(), rotation=45)\n",
    "\n",
    "ax[0].set_xlabel('Frequent Words'); ax[0].set_ylabel('Frequency')\n",
    "ax[1].set_xlabel('Frequent Words'); ax[1].set_ylabel('Frequency')\n",
    "ax[0].set_title('Most frequent Non-spam words');\n",
    "ax[1].set_title('Most frequent Spam words');"
   ]
  },
  {
   "cell_type": "markdown",
   "id": "54c70c1f-37a9-419b-8437-b3c604bd60f6",
   "metadata": {
    "id": "54c70c1f-37a9-419b-8437-b3c604bd60f6"
   },
   "source": [
    "#### **Word Vectors using Spacy** \n",
    "##### (Word Vectors are like bag of words but including Semantics)"
   ]
  },
  {
   "cell_type": "code",
   "execution_count": 22,
   "id": "314d740d-6941-4a71-b90e-ab1df96127b3",
   "metadata": {
    "id": "314d740d-6941-4a71-b90e-ab1df96127b3"
   },
   "outputs": [],
   "source": [
    "import spacy\n",
    "# !python3 -m spacy download en_core_web_md"
   ]
  },
  {
   "cell_type": "code",
   "execution_count": 23,
   "id": "c7f6f6dd-2a32-48ce-a6de-b94b8d039631",
   "metadata": {
    "id": "c7f6f6dd-2a32-48ce-a6de-b94b8d039631"
   },
   "outputs": [],
   "source": [
    "sp = spacy.load('en_core_web_md')"
   ]
  },
  {
   "cell_type": "code",
   "execution_count": 24,
   "id": "942740ad-3a24-4a39-88eb-8a59c9906ada",
   "metadata": {
    "id": "942740ad-3a24-4a39-88eb-8a59c9906ada"
   },
   "outputs": [],
   "source": [
    "train_x_wv = [sp(x).vector for x in train_x] \n",
    "test_x_wv = [sp(x).vector for x in test_x] "
   ]
  },
  {
   "cell_type": "markdown",
   "id": "5ab51aa6-5d99-4fed-885c-ed65eb6f33c7",
   "metadata": {
    "id": "5ab51aa6-5d99-4fed-885c-ed65eb6f33c7",
    "tags": []
   },
   "source": [
    "#### **Classifiers** "
   ]
  },
  {
   "cell_type": "code",
   "execution_count": 25,
   "id": "7AvqEIt7t7f1",
   "metadata": {
    "id": "7AvqEIt7t7f1"
   },
   "outputs": [],
   "source": [
    "from sklearn.metrics import f1_score\n",
    "from sklearn.model_selection import GridSearchCV"
   ]
  },
  {
   "cell_type": "markdown",
   "id": "XB__VweWyMiD",
   "metadata": {
    "id": "XB__VweWyMiD"
   },
   "source": [
    "#### **Support Vector Machine**"
   ]
  },
  {
   "cell_type": "code",
   "execution_count": 26,
   "id": "f34a59eb-642f-4d3f-8f5a-872b845e3e76",
   "metadata": {
    "colab": {
     "base_uri": "https://localhost:8080/"
    },
    "id": "f34a59eb-642f-4d3f-8f5a-872b845e3e76",
    "outputId": "457546b0-6af1-4e32-bfdf-7227764e7330"
   },
   "outputs": [],
   "source": [
    "from sklearn.svm import SVC\n",
    "svm = SVC()\n",
    "\n",
    "# Hyperparameter Tuning\n",
    "param_grid = {'C': [0.1, 1, 10, 100, 1000], \n",
    "              'gamma': [1, 0.1, 0.01, 0.001, 0.0001],\n",
    "              'kernel': ['rbf','poly','sigmoid']} \n",
    "  \n",
    "svm_grid = GridSearchCV(svm, param_grid, refit = True, verbose = 0)"
   ]
  },
  {
   "cell_type": "code",
   "execution_count": 27,
   "id": "9c5df0ab-6b7a-48d2-94b5-05bf71e407ac",
   "metadata": {},
   "outputs": [
    {
     "name": "stdout",
     "output_type": "stream",
     "text": [
      "Accuracy =  0.93048128342246\n",
      "F1 Score =  [0.90780142 0.94420601]\n"
     ]
    }
   ],
   "source": [
    "# Bag of Words Vectors\n",
    "svm = svm_grid.fit(train_x_bag, train_y)\n",
    "print('Accuracy = ', svm.score(test_x_bag, test_y))\n",
    "print('F1 Score = ', f1_score(test_y, svm.predict(test_x_bag), average=None, labels=['spam','non-spam']) )"
   ]
  },
  {
   "cell_type": "code",
   "execution_count": 28,
   "id": "f012ad4e-f444-401e-b469-dac5075439eb",
   "metadata": {
    "colab": {
     "base_uri": "https://localhost:8080/"
    },
    "id": "f012ad4e-f444-401e-b469-dac5075439eb",
    "outputId": "f399dcf0-2a3d-46a5-e76d-629649fc233c"
   },
   "outputs": [
    {
     "name": "stdout",
     "output_type": "stream",
     "text": [
      "Accuracy =  0.9946524064171123\n",
      "F1 Score =  [0.99328859 0.99555556]\n"
     ]
    }
   ],
   "source": [
    "# Spacy Word Vectors\n",
    "svm = svm_grid.fit(train_x_wv, train_y)\n",
    "print('Accuracy = ', svm.score(test_x_wv, test_y))\n",
    "print('F1 Score = ', f1_score(test_y, svm.predict(test_x_wv), average=None, labels=['spam','non-spam']) )"
   ]
  },
  {
   "cell_type": "markdown",
   "id": "x-Nf64PNyUNS",
   "metadata": {
    "id": "x-Nf64PNyUNS"
   },
   "source": [
    "#### **Decision Tree Classifier**"
   ]
  },
  {
   "cell_type": "code",
   "execution_count": 29,
   "id": "3e7ee115-8a55-48b5-ba78-6c9c2580e2b1",
   "metadata": {
    "colab": {
     "base_uri": "https://localhost:8080/"
    },
    "id": "3e7ee115-8a55-48b5-ba78-6c9c2580e2b1",
    "outputId": "223b1e2e-e6c7-41bb-952a-5403229d660f"
   },
   "outputs": [],
   "source": [
    "from sklearn.tree import DecisionTreeClassifier\n",
    "dtc = DecisionTreeClassifier()\n",
    "\n",
    "# Hyperparameter Tuning\n",
    "params = {\n",
    "    'max_depth': [2, 3, 5, 10, 20],\n",
    "    'min_samples_leaf': [5, 10, 20, 50, 100],\n",
    "    'criterion': [\"gini\", \"entropy\"]\n",
    "}\n",
    "dtc_grid = GridSearchCV(estimator=dtc, param_grid=params, cv=3, verbose=0, scoring='accuracy') "
   ]
  },
  {
   "cell_type": "code",
   "execution_count": 30,
   "id": "8af54e83-307a-4c53-827b-e6b4cf89ffe5",
   "metadata": {},
   "outputs": [
    {
     "name": "stdout",
     "output_type": "stream",
     "text": [
      "Accuracy =  0.7914438502673797\n",
      "F1 Score =  [0.77966102 0.80203046]\n"
     ]
    }
   ],
   "source": [
    "# Bag of Words Vectors\n",
    "dtc_grid.fit(train_x_bag, train_y)\n",
    "print('Accuracy = ', dtc_grid.score(test_x_bag, test_y))\n",
    "print('F1 Score = ', f1_score(test_y, dtc_grid.predict(test_x_bag), average=None, labels=['spam','non-spam']) )"
   ]
  },
  {
   "cell_type": "code",
   "execution_count": 31,
   "id": "3904f86c-f001-4cd9-b796-d2e8b598603c",
   "metadata": {
    "colab": {
     "base_uri": "https://localhost:8080/"
    },
    "id": "3904f86c-f001-4cd9-b796-d2e8b598603c",
    "outputId": "d5b3a8b6-1c9d-4cf2-aa1c-ac6dbedafeaa"
   },
   "outputs": [
    {
     "name": "stdout",
     "output_type": "stream",
     "text": [
      "Accuracy =  0.8609625668449198\n",
      "F1 Score =  [0.82432432 0.88495575]\n"
     ]
    }
   ],
   "source": [
    "# Spacy Word Vectors\n",
    "dtc_grid.fit(train_x_wv, train_y)\n",
    "print('Accuracy = ', dtc_grid.score(test_x_wv, test_y))\n",
    "print('F1 Score = ', f1_score(test_y, dtc_grid.predict(test_x_wv), average=None, labels=['spam','non-spam']) )"
   ]
  },
  {
   "cell_type": "markdown",
   "id": "vLE78WbnyaVl",
   "metadata": {
    "id": "vLE78WbnyaVl"
   },
   "source": [
    "#### **Naive Bayes Classifier**"
   ]
  },
  {
   "cell_type": "code",
   "execution_count": 32,
   "id": "00a76c68-b7c1-47d9-a7d1-8a6d32eb03ac",
   "metadata": {},
   "outputs": [],
   "source": [
    "from sklearn.naive_bayes import GaussianNB\n",
    "nb = GaussianNB()\n",
    "\n",
    "# Hyperparameter Tuning\n",
    "params = {'var_smoothing': np.logspace(0,-9, num=100)}\n",
    "nb_grid = GridSearchCV(estimator=nb, param_grid=params, cv=3, verbose=0, scoring='accuracy') "
   ]
  },
  {
   "cell_type": "code",
   "execution_count": 33,
   "id": "e00b6699-b559-4927-a543-7ca3fd7e94aa",
   "metadata": {
    "colab": {
     "base_uri": "https://localhost:8080/"
    },
    "id": "e00b6699-b559-4927-a543-7ca3fd7e94aa",
    "outputId": "6ddbd4ec-12a0-42ab-8793-01f90f07547a"
   },
   "outputs": [
    {
     "name": "stdout",
     "output_type": "stream",
     "text": [
      "Accuracy =  0.8609625668449198\n",
      "F1 Score =  [0.8        0.89344262]\n"
     ]
    }
   ],
   "source": [
    "# Bag of Words Vectors\n",
    "nb_grid.fit(train_x_bag.toarray(), train_y)\n",
    "print('Accuracy = ', nb_grid.score(test_x_bag.toarray(), test_y))\n",
    "print('F1 Score = ', f1_score(test_y, nb_grid.predict(test_x_bag.toarray()), average=None, labels=['spam','non-spam']) )"
   ]
  },
  {
   "cell_type": "code",
   "execution_count": 34,
   "id": "3a770bf7-80db-4844-a84c-ef3071965b3d",
   "metadata": {
    "colab": {
     "base_uri": "https://localhost:8080/"
    },
    "id": "3a770bf7-80db-4844-a84c-ef3071965b3d",
    "outputId": "4d0f6014-3b03-4a46-e7f3-9256ac0eb441"
   },
   "outputs": [
    {
     "name": "stdout",
     "output_type": "stream",
     "text": [
      "Accuracy =  0.9197860962566845\n",
      "F1 Score =  [0.90797546 0.92890995]\n"
     ]
    }
   ],
   "source": [
    "# Spacy Word Vectors\n",
    "nb_grid.fit(train_x_wv, train_y)\n",
    "print('Accuracy = ', nb_grid.score(test_x_wv, test_y))\n",
    "print('F1 Score = ', f1_score(test_y, nb_grid.predict(test_x_wv), average=None, labels=['spam','non-spam']) )"
   ]
  },
  {
   "cell_type": "markdown",
   "id": "8Sm41hxOxPZ9",
   "metadata": {
    "id": "8Sm41hxOxPZ9"
   },
   "source": [
    "#### **Logistic Regression**"
   ]
  },
  {
   "cell_type": "code",
   "execution_count": 35,
   "id": "IQuEmK62w5Hv",
   "metadata": {
    "id": "IQuEmK62w5Hv"
   },
   "outputs": [],
   "source": [
    "from sklearn.linear_model import LogisticRegression\n",
    "\n",
    "# Hyperparameter Tuning\n",
    "lr = LogisticRegression(max_iter=2000)\n",
    "param_grid = [    \n",
    "    {'penalty' : ['l2'],\n",
    "    'C' : np.logspace(-4, 4, 20),\n",
    "    'solver' : ['lbfgs','newton-cg','liblinear'],\n",
    "    }\n",
    "]\n",
    "lr_grid = GridSearchCV(lr, param_grid = param_grid, cv = 3, verbose=False, n_jobs=-1)"
   ]
  },
  {
   "cell_type": "code",
   "execution_count": 36,
   "id": "0ae718fd-3f89-4056-8d7b-edc7b9a7a350",
   "metadata": {
    "colab": {
     "base_uri": "https://localhost:8080/"
    },
    "id": "0ae718fd-3f89-4056-8d7b-edc7b9a7a350",
    "outputId": "4efe3bc8-1c56-4823-8887-9f0d82a6cb1a"
   },
   "outputs": [
    {
     "name": "stdout",
     "output_type": "stream",
     "text": [
      "Accuracy =  0.9358288770053476\n",
      "F1 Score =  [0.91666667 0.94782609]\n"
     ]
    }
   ],
   "source": [
    "# Bag of Words Vectors\n",
    "lr = lr_grid.fit(train_x_bag, train_y)\n",
    "print('Accuracy = ', lr.score(test_x_bag, test_y))\n",
    "print('F1 Score = ', f1_score(test_y, lr.predict(test_x_bag), average=None, labels=['spam','non-spam']) )"
   ]
  },
  {
   "cell_type": "code",
   "execution_count": 37,
   "id": "8bf5883c-e5d6-4291-be0e-8dc617a1aa23",
   "metadata": {
    "colab": {
     "base_uri": "https://localhost:8080/"
    },
    "id": "8bf5883c-e5d6-4291-be0e-8dc617a1aa23",
    "outputId": "411e9bb1-3ea3-4737-b7f3-628864c5007c"
   },
   "outputs": [
    {
     "name": "stdout",
     "output_type": "stream",
     "text": [
      "Accuracy =  0.9732620320855615\n",
      "F1 Score =  [0.96598639 0.97797357]\n"
     ]
    }
   ],
   "source": [
    "# Spacy Word Vectors\n",
    "lr = lr_grid.fit(train_x_wv, train_y)\n",
    "print('Accuracy = ', lr.score(test_x_wv, test_y))\n",
    "print('F1 Score = ', f1_score(test_y, lr.predict(test_x_wv), average=None, labels=['spam','non-spam']) )"
   ]
  },
  {
   "cell_type": "markdown",
   "id": "04291dd4-ea97-43ba-8cae-b8246e7311e3",
   "metadata": {},
   "source": [
    "#### **Saving the Best Model**\n",
    "##### (SVM Model using Word Vectors)"
   ]
  },
  {
   "cell_type": "code",
   "execution_count": 38,
   "id": "f6038bf6-c35e-4f32-95cd-b7f54454e551",
   "metadata": {},
   "outputs": [],
   "source": [
    "import pickle\n",
    "with open('email_spam_filter.pkl','wb') as f:\n",
    "    pickle.dump(svm, f)"
   ]
  },
  {
   "cell_type": "code",
   "execution_count": 39,
   "id": "64ed571b-8d7f-4c89-9be6-625455f21da2",
   "metadata": {},
   "outputs": [
    {
     "data": {
      "text/plain": [
       "array(['spam'], dtype=object)"
      ]
     },
     "execution_count": 39,
     "metadata": {},
     "output_type": "execute_result"
    }
   ],
   "source": [
    "with open('email_spam_filter.pkl','rb') as f:\n",
    "    loaded = pickle.load(f)\n",
    "loaded.predict([sp('Please pay me quickly').vector])"
   ]
  }
 ],
 "metadata": {
  "colab": {
   "provenance": []
  },
  "kernelspec": {
   "display_name": "Python 3 (ipykernel)",
   "language": "python",
   "name": "python3"
  },
  "language_info": {
   "codemirror_mode": {
    "name": "ipython",
    "version": 3
   },
   "file_extension": ".py",
   "mimetype": "text/x-python",
   "name": "python",
   "nbconvert_exporter": "python",
   "pygments_lexer": "ipython3",
   "version": "3.10.6"
  }
 },
 "nbformat": 4,
 "nbformat_minor": 5
}
