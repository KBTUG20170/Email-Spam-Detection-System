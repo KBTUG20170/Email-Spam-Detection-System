{
 "cells": [
  {
   "cell_type": "markdown",
   "id": "40fe40d6-0773-419a-a839-dca8be6fec51",
   "metadata": {},
   "source": [
    "<h2 style=\"color:orange;font-weight:bold;font-family:arial\">Email Spam Detection and Filtering System</h2>\n",
    "<h3 style=\"color:blue;font-weight:bold;font-family:arial\">Samruddhi Khairnar</h3>"
   ]
  },
  {
   "cell_type": "markdown",
   "id": "c764e665-e5a0-4619-a069-178d89800cb7",
   "metadata": {},
   "source": [
    "##### API Keys in credentials.json, of my gmail account - kbtug20170@kbtcoe.org"
   ]
  },
  {
   "cell_type": "code",
   "execution_count": null,
   "id": "2c087510-5d99-413f-9178-ba07afe9518b",
   "metadata": {},
   "outputs": [],
   "source": [
    "##### pip install --upgrade google-api-python-client google-auth-httplib2 google-auth-oauthlib"
   ]
  },
  {
   "cell_type": "markdown",
   "id": "00d30cc6-7215-407b-b174-7652b3f7fca4",
   "metadata": {},
   "source": [
    "#### **Imports**"
   ]
  },
  {
   "cell_type": "code",
   "execution_count": 29,
   "id": "eca2e87c-46bf-4134-ab3d-d0e69a54a02c",
   "metadata": {},
   "outputs": [],
   "source": [
    "import os.path\n",
    "import pickle\n",
    "import spacy\n",
    "sp = spacy.load('en_core_web_md')\n",
    "\n",
    "from google.auth.transport.requests import Request\n",
    "from google.oauth2.credentials import Credentials\n",
    "from google_auth_oauthlib.flow import InstalledAppFlow\n",
    "from googleapiclient.discovery import build\n",
    "from googleapiclient.errors import HttpError\n",
    "from base64 import urlsafe_b64decode, urlsafe_b64encode"
   ]
  },
  {
   "cell_type": "markdown",
   "id": "f8b5afd0-4b91-4027-b9dd-d3170c18e3d8",
   "metadata": {},
   "source": [
    "#### **Scope to grant all permissions to access GMail Account using API**"
   ]
  },
  {
   "cell_type": "code",
   "execution_count": 30,
   "id": "7817d593-a191-46b5-8430-be3b6e10c361",
   "metadata": {},
   "outputs": [],
   "source": [
    "SCOPES = ['https://www.googleapis.com/auth/gmail.modify']"
   ]
  },
  {
   "cell_type": "markdown",
   "id": "aba2fc45-c41e-494c-8dd2-206d4da56708",
   "metadata": {},
   "source": [
    "#### **Variables**"
   ]
  },
  {
   "cell_type": "code",
   "execution_count": 38,
   "id": "67c431fd-7718-44aa-b130-df3be2f2f901",
   "metadata": {},
   "outputs": [],
   "source": [
    "creds = None\n",
    "flow = None\n",
    "text = []\n",
    "ids = []"
   ]
  },
  {
   "cell_type": "markdown",
   "id": "5f38cb2a-2d03-46f7-8181-6d6b654dd3d6",
   "metadata": {},
   "source": [
    "#### **Using Credentials to Login**"
   ]
  },
  {
   "cell_type": "code",
   "execution_count": 39,
   "id": "81b701df-e607-426c-a022-c0ddf8cbf4b9",
   "metadata": {},
   "outputs": [],
   "source": [
    "if os.path.exists('token.json'):\n",
    "        creds = Credentials.from_authorized_user_file('token.json', SCOPES)\n",
    "if not creds or not creds.valid:\n",
    "    if creds and creds.expired and creds.refresh_token:\n",
    "        creds.refresh(Request())\n",
    "    else:\n",
    "        flow = InstalledAppFlow.from_client_secrets_file(\n",
    "            'credentials.json', SCOPES)\n",
    "        creds = flow.run_local_server(port=0)\n",
    "    with open('token.json', 'w') as token:\n",
    "        token.write(creds.to_json())"
   ]
  },
  {
   "cell_type": "markdown",
   "id": "77731a06-829f-412b-a0d3-b01d913fd525",
   "metadata": {},
   "source": [
    "#### **Getting All Emails from Inbox**"
   ]
  },
  {
   "cell_type": "code",
   "execution_count": 40,
   "id": "82977d27-c964-4894-835a-4b4e5c666f2d",
   "metadata": {},
   "outputs": [],
   "source": [
    "try:\n",
    "    service = build('gmail', 'v1', credentials=creds)\n",
    "    results = service.users().messages().list(userId='me').execute()\n",
    "    messages = results.get('messages', [])\n",
    "\n",
    "except HttpError as error:\n",
    "    print(f'An error occurred: {error}')"
   ]
  },
  {
   "cell_type": "markdown",
   "id": "8be8c259-a3f8-427a-9f4e-30936efba52f",
   "metadata": {},
   "source": [
    "#### **Loading first 3 Emails to check for spam**\n",
    "##### (Only 3 to avoid any risk, regarding the emails I've received)"
   ]
  },
  {
   "cell_type": "code",
   "execution_count": 41,
   "id": "615afeca-d0da-41a4-9765-e8c3ee8055c2",
   "metadata": {},
   "outputs": [
    {
     "name": "stdout",
     "output_type": "stream",
     "text": [
      "187c068d19f1f75d\n",
      "187c058626a5b5ff\n"
     ]
    }
   ],
   "source": [
    "try:\n",
    "    for msg in messages[1:3]:  \n",
    "        msg = service.users().messages().get(userId='me', id=msg['id']).execute()\n",
    "        parts = msg['payload'].get(\"parts\")\n",
    "        txt = ''\n",
    "        for part in parts:\n",
    "            mimeType = part.get(\"mimeType\")\n",
    "            data = part.get(\"body\").get(\"data\")\n",
    "            if mimeType == \"text/plain\": #or html\n",
    "                txt += urlsafe_b64decode(data).decode()\n",
    "        text.append(txt)\n",
    "        ids.append(msg['id'])\n",
    "        print(msg['id'])\n",
    "\n",
    "except HttpError as error:\n",
    "    print(f'An error occurred: {error}')"
   ]
  },
  {
   "cell_type": "markdown",
   "id": "e78b8ffa-e235-4765-b601-c857a8abd1e7",
   "metadata": {},
   "source": [
    "#### **Loading the Saved Model and Checking for Spam**"
   ]
  },
  {
   "cell_type": "code",
   "execution_count": 44,
   "id": "f71dde50-3ac7-4ac8-919e-73a79203fbf0",
   "metadata": {},
   "outputs": [
    {
     "name": "stdout",
     "output_type": "stream",
     "text": [
      "['non-spam' 'spam']\n"
     ]
    }
   ],
   "source": [
    "with open('email_spam_filter.pkl','rb') as f:\n",
    "    loaded = pickle.load(f)\n",
    "    pred = loaded.predict([sp(t).vector for t in text])\n",
    "    print(pred)"
   ]
  },
  {
   "cell_type": "markdown",
   "id": "200cf191-a99a-4764-801e-fc2212dd514f",
   "metadata": {},
   "source": [
    "#### **Listing Emails marked as Spam**"
   ]
  },
  {
   "cell_type": "code",
   "execution_count": 45,
   "id": "a71dcf95-f429-4175-a299-f2c37f75728c",
   "metadata": {},
   "outputs": [
    {
     "name": "stdout",
     "output_type": "stream",
     "text": [
      "['187c058626a5b5ff']\n"
     ]
    }
   ],
   "source": [
    "spam_list = []\n",
    "for i, t in enumerate(pred):\n",
    "    if(t=='spam'):\n",
    "        spam_list.append(ids[i])\n",
    "print(spam_list)"
   ]
  },
  {
   "cell_type": "markdown",
   "id": "f2d2ab31-5e92-46f2-8a85-deda281905fc",
   "metadata": {},
   "source": [
    "#### **Trashing the Listed Emails**"
   ]
  },
  {
   "cell_type": "code",
   "execution_count": 46,
   "id": "c864762c-754b-4c90-8345-f8783ccbc71e",
   "metadata": {},
   "outputs": [
    {
     "name": "stdout",
     "output_type": "stream",
     "text": [
      "Deleted spam email with id =  187c058626a5b5ff\n"
     ]
    }
   ],
   "source": [
    "try:\n",
    "    for s in spam_list:\n",
    "        service.users().messages().trash(userId='me', id=s).execute()\n",
    "        print('Deleted spam email with id = ',s)\n",
    "\n",
    "except HttpError as error:\n",
    "    print(f'An error occurred: {error}')"
   ]
  }
 ],
 "metadata": {
  "kernelspec": {
   "display_name": "Python 3 (ipykernel)",
   "language": "python",
   "name": "python3"
  },
  "language_info": {
   "codemirror_mode": {
    "name": "ipython",
    "version": 3
   },
   "file_extension": ".py",
   "mimetype": "text/x-python",
   "name": "python",
   "nbconvert_exporter": "python",
   "pygments_lexer": "ipython3",
   "version": "3.10.6"
  }
 },
 "nbformat": 4,
 "nbformat_minor": 5
}
