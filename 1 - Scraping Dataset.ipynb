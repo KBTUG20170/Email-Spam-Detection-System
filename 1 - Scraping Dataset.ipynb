{
 "cells": [
  {
   "cell_type": "markdown",
   "id": "568f21ec-f879-431b-9202-299d9725d43d",
   "metadata": {},
   "source": [
    "<h2 style=\"color:orange;font-weight:bold;font-family:arial\">Email Spam Detection and Filtering System</h2>\n",
    "<h3 style=\"color:blue;font-weight:bold;font-family:arial\">Samruddhi Khairnar</h3>"
   ]
  },
  {
   "cell_type": "markdown",
   "id": "2fca108e-3385-41de-80ab-ead4f074fca7",
   "metadata": {},
   "source": [
    "##### kbtug20170@kbtcoe.org"
   ]
  },
  {
   "cell_type": "markdown",
   "id": "f3d8861f-6a5f-4f40-a881-ae99378fad58",
   "metadata": {},
   "source": [
    "#### **Imports**"
   ]
  },
  {
   "cell_type": "code",
   "execution_count": 1,
   "id": "ac1d8f1e-75b5-4ce9-a3a0-9882530a6025",
   "metadata": {},
   "outputs": [],
   "source": [
    "import requests\n",
    "from bs4 import BeautifulSoup as bs\n",
    "import pandas as pd"
   ]
  },
  {
   "cell_type": "markdown",
   "id": "f0d42f83-cd9b-4b1c-90ff-4079fb0aee5b",
   "metadata": {},
   "source": [
    "#### **Scraping Spam Emails from a Website**"
   ]
  },
  {
   "cell_type": "code",
   "execution_count": 2,
   "id": "462f550c-9e4c-418b-901e-541596771afb",
   "metadata": {},
   "outputs": [],
   "source": [
    "r = requests.get('https://www.softwarepundit.com/email-marketing/email-spam-words#nogo')\n",
    "soup = bs(r.content)"
   ]
  },
  {
   "cell_type": "code",
   "execution_count": 3,
   "id": "3486f9b8-c66c-4fff-8822-1f5d7df912f8",
   "metadata": {},
   "outputs": [],
   "source": [
    "table = soup.body.find('table','Table--table')"
   ]
  },
  {
   "cell_type": "code",
   "execution_count": 4,
   "id": "18730c53-2957-43ee-b1d8-983baf6a6d5f",
   "metadata": {},
   "outputs": [],
   "source": [
    "td = table.find_all('td')\n",
    "data = [str(tr.get_text()).strip() for tr in td]\n",
    "data = [w for w in data if w.strip()!='']\n",
    "df = pd.DataFrame(data)"
   ]
  },
  {
   "cell_type": "code",
   "execution_count": 5,
   "id": "b07f8472-5678-4349-8a7a-5d9bd8da1484",
   "metadata": {},
   "outputs": [],
   "source": [
    "df['Spam'] = 1\n",
    "df.rename(columns={0:'Data'}, inplace=True)"
   ]
  },
  {
   "cell_type": "code",
   "execution_count": 6,
   "id": "aab6482d-82cf-4530-9402-31ac8cfb0489",
   "metadata": {},
   "outputs": [
    {
     "data": {
      "text/html": [
       "<div>\n",
       "<style scoped>\n",
       "    .dataframe tbody tr th:only-of-type {\n",
       "        vertical-align: middle;\n",
       "    }\n",
       "\n",
       "    .dataframe tbody tr th {\n",
       "        vertical-align: top;\n",
       "    }\n",
       "\n",
       "    .dataframe thead th {\n",
       "        text-align: right;\n",
       "    }\n",
       "</style>\n",
       "<table border=\"1\" class=\"dataframe\">\n",
       "  <thead>\n",
       "    <tr style=\"text-align: right;\">\n",
       "      <th></th>\n",
       "      <th>Data</th>\n",
       "      <th>Spam</th>\n",
       "    </tr>\n",
       "  </thead>\n",
       "  <tbody>\n",
       "    <tr>\n",
       "      <th>0</th>\n",
       "      <td>4U</td>\n",
       "      <td>1</td>\n",
       "    </tr>\n",
       "    <tr>\n",
       "      <th>1</th>\n",
       "      <td>Free investment</td>\n",
       "      <td>1</td>\n",
       "    </tr>\n",
       "    <tr>\n",
       "      <th>2</th>\n",
       "      <td>Only $</td>\n",
       "      <td>1</td>\n",
       "    </tr>\n",
       "    <tr>\n",
       "      <th>3</th>\n",
       "      <td>Accept credit cards</td>\n",
       "      <td>1</td>\n",
       "    </tr>\n",
       "    <tr>\n",
       "      <th>4</th>\n",
       "      <td>Free leads</td>\n",
       "      <td>1</td>\n",
       "    </tr>\n",
       "    <tr>\n",
       "      <th>...</th>\n",
       "      <td>...</td>\n",
       "      <td>...</td>\n",
       "    </tr>\n",
       "    <tr>\n",
       "      <th>250</th>\n",
       "      <td>Online biz opportunity</td>\n",
       "      <td>1</td>\n",
       "    </tr>\n",
       "    <tr>\n",
       "      <th>251</th>\n",
       "      <td>Work at home</td>\n",
       "      <td>1</td>\n",
       "    </tr>\n",
       "    <tr>\n",
       "      <th>252</th>\n",
       "      <td>Free installation</td>\n",
       "      <td>1</td>\n",
       "    </tr>\n",
       "    <tr>\n",
       "      <th>253</th>\n",
       "      <td>Online pharmacy</td>\n",
       "      <td>1</td>\n",
       "    </tr>\n",
       "    <tr>\n",
       "      <th>254</th>\n",
       "      <td>You have been selected</td>\n",
       "      <td>1</td>\n",
       "    </tr>\n",
       "  </tbody>\n",
       "</table>\n",
       "<p>255 rows × 2 columns</p>\n",
       "</div>"
      ],
      "text/plain": [
       "                       Data  Spam\n",
       "0                        4U     1\n",
       "1           Free investment     1\n",
       "2                    Only $     1\n",
       "3       Accept credit cards     1\n",
       "4                Free leads     1\n",
       "..                      ...   ...\n",
       "250  Online biz opportunity     1\n",
       "251            Work at home     1\n",
       "252       Free installation     1\n",
       "253         Online pharmacy     1\n",
       "254  You have been selected     1\n",
       "\n",
       "[255 rows x 2 columns]"
      ]
     },
     "execution_count": 6,
     "metadata": {},
     "output_type": "execute_result"
    }
   ],
   "source": [
    "df"
   ]
  },
  {
   "cell_type": "markdown",
   "id": "d1075dfc-d79e-4c72-ac3d-cdefc7a94d18",
   "metadata": {},
   "source": [
    "#### **Scraping Non-spam Emails from a Website**"
   ]
  },
  {
   "cell_type": "code",
   "execution_count": 7,
   "id": "7e829ed0-5b1e-4de1-b5e4-3b7524982015",
   "metadata": {},
   "outputs": [],
   "source": [
    "r = requests.get('https://www.getmailbird.com/business-email-example/')\n",
    "soup = bs(r.content)"
   ]
  },
  {
   "cell_type": "code",
   "execution_count": 8,
   "id": "37a5da86-ce3c-4861-a932-9fc820d24b84",
   "metadata": {},
   "outputs": [],
   "source": [
    "data = soup.select('blockquote p i span')\n",
    "data = [x.get_text() for x in data]\n",
    "data = [w for w in data if w.strip()!='']\n",
    "df2 = pd.DataFrame(data)"
   ]
  },
  {
   "cell_type": "code",
   "execution_count": 9,
   "id": "df12b11d-07a9-4e5e-a724-4f1c21af679d",
   "metadata": {},
   "outputs": [],
   "source": [
    "df2['Spam'] = 0\n",
    "df2.rename(columns={0:'Data'}, inplace=True)"
   ]
  },
  {
   "cell_type": "code",
   "execution_count": 10,
   "id": "defd90c1-4957-4170-8c0c-4ad5c6c97f74",
   "metadata": {},
   "outputs": [
    {
     "data": {
      "text/html": [
       "<div>\n",
       "<style scoped>\n",
       "    .dataframe tbody tr th:only-of-type {\n",
       "        vertical-align: middle;\n",
       "    }\n",
       "\n",
       "    .dataframe tbody tr th {\n",
       "        vertical-align: top;\n",
       "    }\n",
       "\n",
       "    .dataframe thead th {\n",
       "        text-align: right;\n",
       "    }\n",
       "</style>\n",
       "<table border=\"1\" class=\"dataframe\">\n",
       "  <thead>\n",
       "    <tr style=\"text-align: right;\">\n",
       "      <th></th>\n",
       "      <th>Data</th>\n",
       "      <th>Spam</th>\n",
       "    </tr>\n",
       "  </thead>\n",
       "  <tbody>\n",
       "    <tr>\n",
       "      <th>0</th>\n",
       "      <td>Hi [first name],</td>\n",
       "      <td>0</td>\n",
       "    </tr>\n",
       "    <tr>\n",
       "      <th>1</th>\n",
       "      <td>My name is [your name], and I’m the founder of...</td>\n",
       "      <td>0</td>\n",
       "    </tr>\n",
       "    <tr>\n",
       "      <th>2</th>\n",
       "      <td>I’m reaching out to check whether you’re accep...</td>\n",
       "      <td>0</td>\n",
       "    </tr>\n",
       "    <tr>\n",
       "      <th>3</th>\n",
       "      <td>We have already been featured in respectable p...</td>\n",
       "      <td>0</td>\n",
       "    </tr>\n",
       "    <tr>\n",
       "      <th>4</th>\n",
       "      <td>If you do publish content from guest authors, ...</td>\n",
       "      <td>0</td>\n",
       "    </tr>\n",
       "    <tr>\n",
       "      <th>...</th>\n",
       "      <td>...</td>\n",
       "      <td>...</td>\n",
       "    </tr>\n",
       "    <tr>\n",
       "      <th>363</th>\n",
       "      <td>Have a question? We’re here to help. Contact u...</td>\n",
       "      <td>0</td>\n",
       "    </tr>\n",
       "    <tr>\n",
       "      <th>364</th>\n",
       "      <td>email address</td>\n",
       "      <td>0</td>\n",
       "    </tr>\n",
       "    <tr>\n",
       "      <th>365</th>\n",
       "      <td>] or [telephone number].</td>\n",
       "      <td>0</td>\n",
       "    </tr>\n",
       "    <tr>\n",
       "      <th>366</th>\n",
       "      <td>We look forward to having you!</td>\n",
       "      <td>0</td>\n",
       "    </tr>\n",
       "    <tr>\n",
       "      <th>367</th>\n",
       "      <td>[Your email signature]</td>\n",
       "      <td>0</td>\n",
       "    </tr>\n",
       "  </tbody>\n",
       "</table>\n",
       "<p>368 rows × 2 columns</p>\n",
       "</div>"
      ],
      "text/plain": [
       "                                                  Data  Spam\n",
       "0                                     Hi [first name],     0\n",
       "1    My name is [your name], and I’m the founder of...     0\n",
       "2    I’m reaching out to check whether you’re accep...     0\n",
       "3    We have already been featured in respectable p...     0\n",
       "4    If you do publish content from guest authors, ...     0\n",
       "..                                                 ...   ...\n",
       "363  Have a question? We’re here to help. Contact u...     0\n",
       "364                                      email address     0\n",
       "365                           ] or [telephone number].     0\n",
       "366                     We look forward to having you!     0\n",
       "367                             [Your email signature]     0\n",
       "\n",
       "[368 rows x 2 columns]"
      ]
     },
     "execution_count": 10,
     "metadata": {},
     "output_type": "execute_result"
    }
   ],
   "source": [
    "df2"
   ]
  },
  {
   "cell_type": "markdown",
   "id": "b13652bf-4f70-401b-815e-9bb0b3729b07",
   "metadata": {},
   "source": [
    "#### **Combining both DataFrames**"
   ]
  },
  {
   "cell_type": "code",
   "execution_count": 11,
   "id": "d3896508-6a94-4910-bf53-3d29d13a1307",
   "metadata": {},
   "outputs": [],
   "source": [
    "df_email = pd.concat([df, df2], ignore_index=True, axis=0)"
   ]
  },
  {
   "cell_type": "markdown",
   "id": "c17aa253-d60e-4568-a127-5b9093e8e854",
   "metadata": {},
   "source": [
    "#### **Randomizing the Records**"
   ]
  },
  {
   "cell_type": "code",
   "execution_count": 12,
   "id": "ca8bd0fc-48eb-4688-a65e-61d56d74f4a2",
   "metadata": {},
   "outputs": [],
   "source": [
    "df_email = df_email.sample(frac=1).reset_index(drop=True)"
   ]
  },
  {
   "cell_type": "code",
   "execution_count": 13,
   "id": "06c633f8-67cd-4b82-8b5e-11f977b59441",
   "metadata": {},
   "outputs": [
    {
     "data": {
      "text/html": [
       "<div>\n",
       "<style scoped>\n",
       "    .dataframe tbody tr th:only-of-type {\n",
       "        vertical-align: middle;\n",
       "    }\n",
       "\n",
       "    .dataframe tbody tr th {\n",
       "        vertical-align: top;\n",
       "    }\n",
       "\n",
       "    .dataframe thead th {\n",
       "        text-align: right;\n",
       "    }\n",
       "</style>\n",
       "<table border=\"1\" class=\"dataframe\">\n",
       "  <thead>\n",
       "    <tr style=\"text-align: right;\">\n",
       "      <th></th>\n",
       "      <th>Data</th>\n",
       "      <th>Spam</th>\n",
       "    </tr>\n",
       "  </thead>\n",
       "  <tbody>\n",
       "    <tr>\n",
       "      <th>0</th>\n",
       "      <td>Best wishes,</td>\n",
       "      <td>0</td>\n",
       "    </tr>\n",
       "    <tr>\n",
       "      <th>1</th>\n",
       "      <td>[Your Post 1]</td>\n",
       "      <td>0</td>\n",
       "    </tr>\n",
       "    <tr>\n",
       "      <th>2</th>\n",
       "      <td>Free access</td>\n",
       "      <td>1</td>\n",
       "    </tr>\n",
       "    <tr>\n",
       "      <th>3</th>\n",
       "      <td>Thank you for signing up for [your company nam...</td>\n",
       "      <td>0</td>\n",
       "    </tr>\n",
       "    <tr>\n",
       "      <th>4</th>\n",
       "      <td>Accept credit cards</td>\n",
       "      <td>1</td>\n",
       "    </tr>\n",
       "    <tr>\n",
       "      <th>...</th>\n",
       "      <td>...</td>\n",
       "      <td>...</td>\n",
       "    </tr>\n",
       "    <tr>\n",
       "      <th>618</th>\n",
       "      <td>The best way to find out more about [name of p...</td>\n",
       "      <td>0</td>\n",
       "    </tr>\n",
       "    <tr>\n",
       "      <th>619</th>\n",
       "      <td>Hi [subscriber’s name],</td>\n",
       "      <td>0</td>\n",
       "    </tr>\n",
       "    <tr>\n",
       "      <th>620</th>\n",
       "      <td>Lowest price</td>\n",
       "      <td>1</td>\n",
       "    </tr>\n",
       "    <tr>\n",
       "      <th>621</th>\n",
       "      <td>Discusses search engine listings</td>\n",
       "      <td>1</td>\n",
       "    </tr>\n",
       "    <tr>\n",
       "      <th>622</th>\n",
       "      <td>[Benefit #1]</td>\n",
       "      <td>0</td>\n",
       "    </tr>\n",
       "  </tbody>\n",
       "</table>\n",
       "<p>623 rows × 2 columns</p>\n",
       "</div>"
      ],
      "text/plain": [
       "                                                  Data  Spam\n",
       "0                                         Best wishes,     0\n",
       "1                                        [Your Post 1]     0\n",
       "2                                          Free access     1\n",
       "3    Thank you for signing up for [your company nam...     0\n",
       "4                                  Accept credit cards     1\n",
       "..                                                 ...   ...\n",
       "618  The best way to find out more about [name of p...     0\n",
       "619                           Hi [subscriber’s name],      0\n",
       "620                                       Lowest price     1\n",
       "621                   Discusses search engine listings     1\n",
       "622                                       [Benefit #1]     0\n",
       "\n",
       "[623 rows x 2 columns]"
      ]
     },
     "execution_count": 13,
     "metadata": {},
     "output_type": "execute_result"
    }
   ],
   "source": [
    "df_email"
   ]
  },
  {
   "cell_type": "markdown",
   "id": "e4f446b4-6a6a-4833-bdaf-b29bd9279d70",
   "metadata": {},
   "source": [
    "#### **Saving the Output as a CSV file**"
   ]
  },
  {
   "cell_type": "code",
   "execution_count": 14,
   "id": "026744ac-5ad0-4ae9-9291-815e7c7ff20e",
   "metadata": {},
   "outputs": [],
   "source": [
    "df_email.to_csv('emails_scraped.csv', index=False)"
   ]
  },
  {
   "cell_type": "code",
   "execution_count": 15,
   "id": "e00e9ebe-b19d-4f52-87b9-779a6f66cb0d",
   "metadata": {},
   "outputs": [
    {
     "data": {
      "text/html": [
       "<div>\n",
       "<style scoped>\n",
       "    .dataframe tbody tr th:only-of-type {\n",
       "        vertical-align: middle;\n",
       "    }\n",
       "\n",
       "    .dataframe tbody tr th {\n",
       "        vertical-align: top;\n",
       "    }\n",
       "\n",
       "    .dataframe thead th {\n",
       "        text-align: right;\n",
       "    }\n",
       "</style>\n",
       "<table border=\"1\" class=\"dataframe\">\n",
       "  <thead>\n",
       "    <tr style=\"text-align: right;\">\n",
       "      <th></th>\n",
       "      <th>Data</th>\n",
       "      <th>Spam</th>\n",
       "    </tr>\n",
       "  </thead>\n",
       "  <tbody>\n",
       "    <tr>\n",
       "      <th>0</th>\n",
       "      <td>Best wishes,</td>\n",
       "      <td>0</td>\n",
       "    </tr>\n",
       "    <tr>\n",
       "      <th>1</th>\n",
       "      <td>[Your Post 1]</td>\n",
       "      <td>0</td>\n",
       "    </tr>\n",
       "    <tr>\n",
       "      <th>2</th>\n",
       "      <td>Free access</td>\n",
       "      <td>1</td>\n",
       "    </tr>\n",
       "    <tr>\n",
       "      <th>3</th>\n",
       "      <td>Thank you for signing up for [your company nam...</td>\n",
       "      <td>0</td>\n",
       "    </tr>\n",
       "    <tr>\n",
       "      <th>4</th>\n",
       "      <td>Accept credit cards</td>\n",
       "      <td>1</td>\n",
       "    </tr>\n",
       "    <tr>\n",
       "      <th>...</th>\n",
       "      <td>...</td>\n",
       "      <td>...</td>\n",
       "    </tr>\n",
       "    <tr>\n",
       "      <th>618</th>\n",
       "      <td>The best way to find out more about [name of p...</td>\n",
       "      <td>0</td>\n",
       "    </tr>\n",
       "    <tr>\n",
       "      <th>619</th>\n",
       "      <td>Hi [subscriber’s name],</td>\n",
       "      <td>0</td>\n",
       "    </tr>\n",
       "    <tr>\n",
       "      <th>620</th>\n",
       "      <td>Lowest price</td>\n",
       "      <td>1</td>\n",
       "    </tr>\n",
       "    <tr>\n",
       "      <th>621</th>\n",
       "      <td>Discusses search engine listings</td>\n",
       "      <td>1</td>\n",
       "    </tr>\n",
       "    <tr>\n",
       "      <th>622</th>\n",
       "      <td>[Benefit #1]</td>\n",
       "      <td>0</td>\n",
       "    </tr>\n",
       "  </tbody>\n",
       "</table>\n",
       "<p>623 rows × 2 columns</p>\n",
       "</div>"
      ],
      "text/plain": [
       "                                                  Data  Spam\n",
       "0                                         Best wishes,     0\n",
       "1                                        [Your Post 1]     0\n",
       "2                                          Free access     1\n",
       "3    Thank you for signing up for [your company nam...     0\n",
       "4                                  Accept credit cards     1\n",
       "..                                                 ...   ...\n",
       "618  The best way to find out more about [name of p...     0\n",
       "619                           Hi [subscriber’s name],      0\n",
       "620                                       Lowest price     1\n",
       "621                   Discusses search engine listings     1\n",
       "622                                       [Benefit #1]     0\n",
       "\n",
       "[623 rows x 2 columns]"
      ]
     },
     "execution_count": 15,
     "metadata": {},
     "output_type": "execute_result"
    }
   ],
   "source": [
    "df = pd.read_csv('emails_scraped.csv')\n",
    "df"
   ]
  }
 ],
 "metadata": {
  "kernelspec": {
   "display_name": "Python 3 (ipykernel)",
   "language": "python",
   "name": "python3"
  },
  "language_info": {
   "codemirror_mode": {
    "name": "ipython",
    "version": 3
   },
   "file_extension": ".py",
   "mimetype": "text/x-python",
   "name": "python",
   "nbconvert_exporter": "python",
   "pygments_lexer": "ipython3",
   "version": "3.10.6"
  }
 },
 "nbformat": 4,
 "nbformat_minor": 5
}
